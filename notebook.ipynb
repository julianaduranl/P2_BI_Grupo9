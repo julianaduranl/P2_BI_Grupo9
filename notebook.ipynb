{
 "cells": [
  {
   "cell_type": "code",
   "execution_count": null,
   "id": "b953a9e4",
   "metadata": {},
   "outputs": [
    {
     "name": "stdout",
     "output_type": "stream",
     "text": [
      "SISAIRE: 24 archivos cargados. Forma total: (2622273, 9)\n",
      "Columnas detectadas: ['Estacion', 'Fecha inicial', 'Fecha final', 'NO2', 'fuente', 'archivo_origen', 'O3', 'SO2', 'CO']\n"
     ]
    }
   ],
   "source": [
    "import pandas as pd\n",
    "import os\n",
    "\n",
    "ruta_sisaire = \"Datos/SISAIRE\"\n",
    "\n",
    "# ---------------- SISAIRE ---------------- #\n",
    "def cargar_sisaire(ruta):\n",
    "    archivos = [f for f in os.listdir(ruta) if f.endswith(('.xlsx', '.csv'))]\n",
    "    lista_dfs = []\n",
    "    for archivo in archivos:\n",
    "        path = os.path.join(ruta, archivo)\n",
    "        if archivo.endswith('.csv'):\n",
    "            df = pd.read_csv(path)\n",
    "        else:\n",
    "            df = pd.read_excel(path)\n",
    "        df[\"fuente\"] = \"SISAIRE\"\n",
    "        df[\"archivo_origen\"] = archivo\n",
    "        lista_dfs.append(df)\n",
    "    df_sisaire = pd.concat(lista_dfs, ignore_index=True)\n",
    "    print(f\"SISAIRE: {len(archivos)} archivos cargados. Forma total: {df_sisaire.shape}\")\n",
    "    print(\"Columnas detectadas:\", list(df_sisaire.columns))\n",
    "    return df_sisaire\n",
    "\n",
    "# Cargar ambos datasets\n",
    "\n",
    "sisaire = cargar_sisaire(ruta_sisaire)\n"
   ]
  },
  {
   "cell_type": "code",
   "execution_count": 48,
   "id": "a9d49c09",
   "metadata": {},
   "outputs": [
    {
     "data": {
      "text/html": [
       "<div>\n",
       "<style scoped>\n",
       "    .dataframe tbody tr th:only-of-type {\n",
       "        vertical-align: middle;\n",
       "    }\n",
       "\n",
       "    .dataframe tbody tr th {\n",
       "        vertical-align: top;\n",
       "    }\n",
       "\n",
       "    .dataframe thead th {\n",
       "        text-align: right;\n",
       "    }\n",
       "</style>\n",
       "<table border=\"1\" class=\"dataframe\">\n",
       "  <thead>\n",
       "    <tr style=\"text-align: right;\">\n",
       "      <th></th>\n",
       "      <th>Fecha &amp; Hora</th>\n",
       "      <th>Location</th>\n",
       "      <th>Concentración</th>\n",
       "      <th>NowCast</th>\n",
       "      <th>IBOCA</th>\n",
       "    </tr>\n",
       "  </thead>\n",
       "  <tbody>\n",
       "    <tr>\n",
       "      <th>0</th>\n",
       "      <td>2024-01-01 00:00:00</td>\n",
       "      <td>Bolivia</td>\n",
       "      <td>26.0</td>\n",
       "      <td>24.16</td>\n",
       "      <td>76.36</td>\n",
       "    </tr>\n",
       "    <tr>\n",
       "      <th>1</th>\n",
       "      <td>2024-01-01 01:00:00</td>\n",
       "      <td>Bolivia</td>\n",
       "      <td>23.0</td>\n",
       "      <td>23.58</td>\n",
       "      <td>75.14</td>\n",
       "    </tr>\n",
       "    <tr>\n",
       "      <th>2</th>\n",
       "      <td>2024-01-01 02:00:00</td>\n",
       "      <td>Bolivia</td>\n",
       "      <td>18.0</td>\n",
       "      <td>20.79</td>\n",
       "      <td>69.27</td>\n",
       "    </tr>\n",
       "  </tbody>\n",
       "</table>\n",
       "</div>"
      ],
      "text/plain": [
       "         Fecha & Hora Location  Concentración  NowCast  IBOCA\n",
       "0 2024-01-01 00:00:00  Bolivia           26.0    24.16  76.36\n",
       "1 2024-01-01 01:00:00  Bolivia           23.0    23.58  75.14\n",
       "2 2024-01-01 02:00:00  Bolivia           18.0    20.79  69.27"
      ]
     },
     "execution_count": 48,
     "metadata": {},
     "output_type": "execute_result"
    }
   ],
   "source": [
    "import pandas as pd\n",
    "import numpy as np\n",
    "\n",
    "\n",
    "path = \"Datos/IBOCA/IBOCA-PM10-2020-1.xlsx\"\n",
    "columnas_finales = [\"Fecha & Hora\", \"Location\", \"Concentración\", \"NowCast\", \"IBOCA\"]\n",
    "\n",
    "# Leer crudo sin encabezado\n",
    "df_raw = pd.read_excel(path, header=None)\n",
    "\n",
    "# 1) Fechas (columna A) desde la fila 8 (índice 7)\n",
    "df_fechas = df_raw.iloc[7:, [0]].copy()\n",
    "df_fechas.columns = [\"Fecha & Hora\"]\n",
    "\n",
    "# Normalizar a datetime (soporta \"1/01/24 0:00\", etc.)\n",
    "df_fechas[\"Fecha & Hora\"] = pd.to_datetime(df_fechas[\"Fecha & Hora\"], errors=\"coerce\", dayfirst=True)\n",
    "\n",
    "# Función para convertir números con coma decimal y \"Sin data\" → NaN\n",
    "def to_num(s):\n",
    "    if pd.isna(s): \n",
    "        return np.nan\n",
    "    s = str(s).strip()\n",
    "    if s.lower().startswith(\"sin data\"):\n",
    "        return np.nan\n",
    "    # reemplazar coma decimal por punto (p.ej. 24,16 → 24.16)\n",
    "    s = s.replace(\",\", \".\")\n",
    "    try:\n",
    "        return float(s)\n",
    "    except:\n",
    "        return np.nan\n",
    "\n",
    "# 2) Recorremos columnas en bloques de 3: (B,C,D)=1..3, (E,F,G)=4..6, ...\n",
    "bloques = []\n",
    "n_cols = df_raw.shape[1]\n",
    "\n",
    "for start_col in range(1, n_cols, 3):\n",
    "    # Asegurar que el bloque completo existe\n",
    "    if start_col + 2 >= n_cols:\n",
    "        break\n",
    "\n",
    "    # Lugar está en la fila 5 (índice 4) de la 1ª columna del bloque\n",
    "    lugar = df_raw.iat[4, start_col] if 4 < df_raw.shape[0] else None\n",
    "    if not isinstance(lugar, str) or lugar.strip() == \"\" or lugar.strip().lower() == \"nan\":\n",
    "        # si no hay lugar, probablemente ya no hay más estaciones útiles\n",
    "        continue\n",
    "    lugar = lugar.strip()\n",
    "\n",
    "    # Datos del bloque desde fila 8 (índice 7)\n",
    "    vals = df_raw.iloc[7:, start_col:start_col+3].copy()\n",
    "    vals.columns = [\"Concentración\", \"NowCast\", \"IBOCA\"]\n",
    "\n",
    "    # Convertir a numéricos (coma decimal, “Sin data”)\n",
    "    for c in [\"Concentración\", \"NowCast\", \"IBOCA\"]:\n",
    "        vals[c] = vals[c].apply(to_num)\n",
    "\n",
    "    # Armar df del bloque con Location repetido y fechas\n",
    "    df_block = pd.concat([df_fechas.reset_index(drop=True), vals.reset_index(drop=True)], axis=1)\n",
    "    df_block.insert(1, \"Location\", lugar)\n",
    "\n",
    "    # Quitar filas totalmente vacías de medición\n",
    "    df_block = df_block.dropna(subset=[\"Concentración\", \"NowCast\", \"IBOCA\"], how=\"all\")\n",
    "\n",
    "    # Guardar si tiene contenido\n",
    "    if not df_block.empty:\n",
    "        bloques.append(df_block)\n",
    "\n",
    "   \n",
    "\n",
    "# 3) Unir todos los bloques\n",
    "if bloques:\n",
    "    df_final = pd.concat(bloques, ignore_index=True)\n",
    "    df_final = df_final[columnas_finales]\n",
    "else:\n",
    "    df_final = pd.DataFrame(columns=columnas_finales)\n",
    "\n",
    "df_final.shape\n",
    "df_final.head(3)\n"
   ]
  },
  {
   "cell_type": "code",
   "execution_count": 42,
   "id": "fa45b1e7",
   "metadata": {},
   "outputs": [
    {
     "name": "stdout",
     "output_type": "stream",
     "text": [
      "Dimensiones del dataset: (79019, 5)\n",
      "\n",
      "Tipos de datos:\n",
      "Fecha & Hora     datetime64[ns]\n",
      "Location                 object\n",
      "Concentración           float64\n",
      "NowCast                 float64\n",
      "IBOCA                   float64\n",
      "dtype: object\n",
      "\n",
      "Nulos por columna:\n",
      "Fecha & Hora       57\n",
      "Location            0\n",
      "Concentración    1554\n",
      "NowCast           267\n",
      "IBOCA             557\n",
      "dtype: int64\n"
     ]
    }
   ],
   "source": [
    "print(\"Dimensiones del dataset:\", df_final.shape)\n",
    "print(\"\\nTipos de datos:\")\n",
    "print(df_final.dtypes)\n",
    "print(\"\\nNulos por columna:\")\n",
    "print(df_final.isna().sum())\n"
   ]
  },
  {
   "cell_type": "code",
   "execution_count": 43,
   "id": "a022f465",
   "metadata": {},
   "outputs": [
    {
     "name": "stdout",
     "output_type": "stream",
     "text": [
      "\n",
      "Rango de fechas:\n",
      "2024-01-01 00:00:00  →  2024-07-01 00:00:00\n",
      "\n",
      "Frecuencias más comunes (en horas):\n",
      "delta_horas\n",
      "1.0    78831\n",
      "2.0       39\n",
      "3.0       18\n",
      "5.0        6\n",
      "4.0        6\n",
      "Name: count, dtype: int64\n"
     ]
    }
   ],
   "source": [
    "print(\"\\nRango de fechas:\")\n",
    "print(df_final[\"Fecha & Hora\"].min(), \" → \", df_final[\"Fecha & Hora\"].max())\n",
    "\n",
    "# Frecuencia aproximada\n",
    "df_final[\"delta_horas\"] = df_final[\"Fecha & Hora\"].diff().dt.total_seconds() / 3600\n",
    "print(\"\\nFrecuencias más comunes (en horas):\")\n",
    "print(df_final[\"delta_horas\"].value_counts().head())\n"
   ]
  },
  {
   "cell_type": "code",
   "execution_count": 44,
   "id": "540f4fe6",
   "metadata": {},
   "outputs": [
    {
     "name": "stdout",
     "output_type": "stream",
     "text": [
      "\n",
      "Número de estaciones: 19\n",
      "\n",
      "Top estaciones por número de registros:\n",
      "Location\n",
      "Guaymaral         4372\n",
      "Móvil 7ma         4371\n",
      "Tunal             4370\n",
      "Kennedy           4357\n",
      "MinAmbiente       4344\n",
      "Jazmín            4320\n",
      "Colina            4318\n",
      "Fontibon          4311\n",
      "Móvil Fontibón    4311\n",
      "San Cristobal     4309\n",
      "Name: count, dtype: int64\n"
     ]
    }
   ],
   "source": [
    "print(\"\\nNúmero de estaciones:\", df_final[\"Location\"].nunique())\n",
    "print(\"\\nTop estaciones por número de registros:\")\n",
    "print(df_final[\"Location\"].value_counts().head(10))\n"
   ]
  },
  {
   "cell_type": "code",
   "execution_count": 45,
   "id": "c6cd1681",
   "metadata": {},
   "outputs": [
    {
     "name": "stdout",
     "output_type": "stream",
     "text": [
      "\n",
      "--- Estadísticas de Concentración ---\n",
      "count    77465.000000\n",
      "mean        19.304951\n",
      "std         13.804879\n",
      "min          0.000000\n",
      "25%          8.000000\n",
      "50%         17.000000\n",
      "75%         27.000000\n",
      "max        178.000000\n",
      "Name: Concentración, dtype: float64\n",
      "\n",
      "--- Estadísticas de NowCast ---\n",
      "count    78752.000000\n",
      "mean        19.993673\n",
      "std         65.709055\n",
      "min          0.010000\n",
      "25%          8.420000\n",
      "50%         16.990000\n",
      "75%         27.080000\n",
      "max       4366.000000\n",
      "Name: NowCast, dtype: float64\n",
      "\n",
      "--- Estadísticas de IBOCA ---\n",
      "count    78462.000000\n",
      "mean        62.294893\n",
      "std         71.587111\n",
      "min          0.010000\n",
      "25%         34.910000\n",
      "50%         61.310000\n",
      "75%         82.480000\n",
      "max       4349.000000\n",
      "Name: IBOCA, dtype: float64\n"
     ]
    }
   ],
   "source": [
    "print(\"\\n--- Estadísticas de Concentración ---\")\n",
    "print(df_final[\"Concentración\"].describe())\n",
    "\n",
    "print(\"\\n--- Estadísticas de NowCast ---\")\n",
    "print(df_final[\"NowCast\"].describe())\n",
    "\n",
    "print(\"\\n--- Estadísticas de IBOCA ---\")\n",
    "print(df_final[\"IBOCA\"].describe())\n"
   ]
  },
  {
   "cell_type": "code",
   "execution_count": 47,
   "id": "f80c5c0b",
   "metadata": {},
   "outputs": [
    {
     "name": "stdout",
     "output_type": "stream",
     "text": [
      "\n",
      "Correlaciones:\n",
      "               Concentración   NowCast     IBOCA\n",
      "Concentración       1.000000  0.165037  0.405290\n",
      "NowCast             0.165037  1.000000  0.960455\n",
      "IBOCA               0.405290  0.960455  1.000000\n"
     ]
    }
   ],
   "source": [
    "print(\"\\nCorrelaciones:\")\n",
    "print(df_final[[\"Concentración\", \"NowCast\", \"IBOCA\"]].corr())\n"
   ]
  }
 ],
 "metadata": {
  "kernelspec": {
   "display_name": "Python 3.9 (mushroom)",
   "language": "python",
   "name": "mushroom-env"
  },
  "language_info": {
   "codemirror_mode": {
    "name": "ipython",
    "version": 3
   },
   "file_extension": ".py",
   "mimetype": "text/x-python",
   "name": "python",
   "nbconvert_exporter": "python",
   "pygments_lexer": "ipython3",
   "version": "3.9.12"
  }
 },
 "nbformat": 4,
 "nbformat_minor": 5
}
